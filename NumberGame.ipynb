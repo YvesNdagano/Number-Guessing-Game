{
 "cells": [
  {
   "cell_type": "code",
   "execution_count": null,
   "metadata": {},
   "outputs": [],
   "source": [
    "# Python Project: Number Guessing Game\n",
    "# This project is a simple Number Guessing game which allows the user to spend good time.\n",
    "# Group Members: Mercy, Yves, Charlene,\n",
    "# Course Name and Number: IST IST1025A SS2025\n",
    "# Instructor's Name: Dr. XYZ\n",
    "# Date of Submission: March 2025\n",
    "\n",
    "\n",
    "import random  # defines a series of functions for generating or manipulating random integers\n",
    "x=0\n",
    "y=100 #x and y represent the limit of the range of numbers the user can input\n",
    "answer=random.randint(x,y) #The answer will also be defined that range \n",
    "guesses=0 #set the guesses number to 0 before starting the running\n",
    "running = True #The boolean function will keep running as soon as as the correct answer has not been found\n",
    "print(\"Guessing Game!!\")\n",
    "print(\"Select a number btn 1 and 100\")\n",
    "\n",
    "while running: # The loop starts here when the user runs the application\n",
    "\n",
    "    guess = input(\"Enter your guess\") # The user can inout his/her guesses here\n",
    "\n",
    "    if guess.isdigit(): # First condition defines the guess as a digit and not another variable\n",
    "        guess= int(guess)\n",
    "        guesses +=1 #This increases attempts evrytime the user input a guess  \n",
    "        if guess < x or guess > y: #second condition defining the exact range of numbers the user has access to \n",
    "            print(\"Number out of range\")\n",
    "            print(\"Please enter a number in the range\")\n",
    "\n",
    "        elif guess < answer: #third condition for warning user that number is lower than the guess\n",
    "            print(\"Too Low\")\n",
    "\n",
    "        elif guess > answer: #fourth condition for warning user that number is higher than the guess\n",
    "            print(\"Too High\")\n",
    "        else:  #Here is when the user input the right number\n",
    "            print(f\"CORRECT!! The answer was {answer}\") #print the correct answer that the user has put and displays it\n",
    "            print(f\"Number of guesses:{guesses}\")  #print the number of attempts \n",
    "            running = False #Here is the end of running time and  shows that the user has put the right number\n",
    "    else: #The else is for in case the user input another value wich is not an integer\n",
    "        print(\"Invalid guess\")\n",
    "        print(\"Please enter a number in the range\")\n",
    "\n",
    "        #Include a feature that allows the user to play again if they want to"
   ]
  }
 ],
 "metadata": {
  "language_info": {
   "name": "python"
  }
 },
 "nbformat": 4,
 "nbformat_minor": 2
}
